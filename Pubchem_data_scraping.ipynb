{
  "nbformat": 4,
  "nbformat_minor": 0,
  "metadata": {
    "colab": {
      "provenance": []
    },
    "kernelspec": {
      "name": "python3",
      "display_name": "Python 3"
    },
    "language_info": {
      "name": "python"
    }
  },
  "cells": [
    {
      "cell_type": "code",
      "execution_count": null,
      "metadata": {
        "colab": {
          "base_uri": "https://localhost:8080/"
        },
        "id": "4DN8MeKnm4fO",
        "outputId": "62e04fd5-d7b9-4127-b4b8-f9b845b52bc1"
      },
      "outputs": [
        {
          "output_type": "stream",
          "name": "stdout",
          "text": [
            "Collecting pubchempy\n",
            "  Downloading PubChemPy-1.0.4.tar.gz (29 kB)\n",
            "  Preparing metadata (setup.py) ... \u001b[?25l\u001b[?25hdone\n",
            "Building wheels for collected packages: pubchempy\n",
            "  Building wheel for pubchempy (setup.py) ... \u001b[?25l\u001b[?25hdone\n",
            "  Created wheel for pubchempy: filename=PubChemPy-1.0.4-py3-none-any.whl size=13819 sha256=de6622a13b3604fbc81805eaecfadcdecf89445023044403b1a99aee2ae760f7\n",
            "  Stored in directory: /root/.cache/pip/wheels/90/7c/45/18a0671e3c3316966ef7ed9ad2b3f3300a7e41d3421a44e799\n",
            "Successfully built pubchempy\n",
            "Installing collected packages: pubchempy\n",
            "Successfully installed pubchempy-1.0.4\n"
          ]
        }
      ],
      "source": [
        "!pip install pubchempy"
      ]
    },
    {
      "cell_type": "code",
      "source": [
        "import pubchempy as pcp"
      ],
      "metadata": {
        "id": "nfOJc9_0m7bO"
      },
      "execution_count": null,
      "outputs": []
    },
    {
      "cell_type": "code",
      "source": [
        "for compound in pcp.get_compounds('31252'):\n",
        "  print(compound)\n",
        "  print(compound.cid)\n",
        "  print(compound.isomeric_smiles)\n",
        "  iupac_name\n"
      ],
      "metadata": {
        "colab": {
          "base_uri": "https://localhost:8080/"
        },
        "id": "bRRfRKL5m_8r",
        "outputId": "a65f6db9-e236-41be-89e1-206cc04f99ed"
      },
      "execution_count": null,
      "outputs": [
        {
          "output_type": "stream",
          "name": "stdout",
          "text": [
            "Compound(31252)\n",
            "31252\n",
            "CC1=CN=C(C=N1)C\n"
          ]
        }
      ]
    },
    {
      "cell_type": "code",
      "source": [
        "def tanimoto(compound1, compound2):\n",
        "    fp1 = int(compound1.fingerprint, 16)\n",
        "    fp2 = int(compound2.fingerprint, 16)\n",
        "    fp1_count = bin(fp1).count('1')\n",
        "    fp2_count = bin(fp2).count('1')\n",
        "    both_count = bin(fp1 & fp2).count('1')\n",
        "    return float(both_count) / (fp1_count + fp2_count - both_count)\n"
      ],
      "metadata": {
        "id": "gJbig_-KqnLq"
      },
      "execution_count": null,
      "outputs": []
    },
    {
      "cell_type": "code",
      "source": [
        "aspirin = pcp.Compound.from_cid(2244)\n",
        "bismuth = pcp.Compound.from_cid(5359367)\n",
        "tanimoto(aspirin, bismuth)"
      ],
      "metadata": {
        "colab": {
          "base_uri": "https://localhost:8080/"
        },
        "id": "lE2uaMIpq5-9",
        "outputId": "d453ac82-6820-46b5-b712-29cf71fb24e5"
      },
      "execution_count": null,
      "outputs": [
        {
          "output_type": "execute_result",
          "data": {
            "text/plain": [
              "0.04918032786885246"
            ]
          },
          "metadata": {},
          "execution_count": 27
        }
      ]
    },
    {
      "cell_type": "code",
      "source": [
        "aspirin #Same dtype as get_compounds"
      ],
      "metadata": {
        "colab": {
          "base_uri": "https://localhost:8080/"
        },
        "id": "LqA0YcEyrbA9",
        "outputId": "7149da08-89b9-4597-868f-3a871b4e89c5"
      },
      "execution_count": null,
      "outputs": [
        {
          "output_type": "execute_result",
          "data": {
            "text/plain": [
              "Compound(2244)"
            ]
          },
          "metadata": {},
          "execution_count": 31
        }
      ]
    },
    {
      "cell_type": "code",
      "source": [],
      "metadata": {
        "id": "q-lN8_VisYGE"
      },
      "execution_count": null,
      "outputs": []
    }
  ]
}